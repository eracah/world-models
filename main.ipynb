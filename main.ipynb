{
 "cells": [
  {
   "cell_type": "markdown",
   "metadata": {},
   "source": [
    "### TODO\n",
    "1. ~~Code up VAE~~\n",
    "2. ~~Code up M (RNN)~~\n",
    "3. ~~Code up Train Loop for M~~\n",
    "3. ~~Code up C (Controller)~~\n",
    "4. ~~Set up Car Racing data for C~~\n",
    "5. ~~set up car racing rollouts for VAE~~\n",
    "6. ~~add in nice way to save weights and rollouts in same dir for VAE~~\n",
    "6. add train loop for C\n",
    "7. Get C working with VAE weights\n",
    "6. set up VAE data with MDN_RNN\n",
    "7. add temperature to MDN-RNN\n",
    "8. add model saving to MDN-RNN\n",
    "9. Get C working with VAE, MDN_RNN weights\n",
    "10. do on atari\n",
    "11. code up baseline -> simple dqn-like thing\n",
    "12. add weight init\n",
    "13. disentangling"
   ]
  },
  {
   "cell_type": "code",
   "execution_count": 1,
   "metadata": {},
   "outputs": [
    {
     "data": {
      "text/plain": [
       "_StoreAction(option_strings=['--iters'], dest='iters', nargs=None, const=None, default=100000, type=<class 'int'>, choices=None, help=None, metavar=None)"
      ]
     },
     "execution_count": 1,
     "metadata": {},
     "output_type": "execute_result"
    }
   ],
   "source": [
    "import gym\n",
    "import matplotlib.pyplot as plt\n",
    "\n",
    "import torch\n",
    "import numpy as np\n",
    "from torch import nn\n",
    "from torch.autograd import Variable\n",
    "from torch.nn import functional as F\n",
    "from torch.nn import init\n",
    "from torch import optim\n",
    "import time\n",
    "from copy import deepcopy\n",
    "from tqdm import tqdm\n",
    "\n",
    "\n",
    "import os\n",
    "# Imports specifically so we can render outputs in Jupyter.\n",
    "from JSAnimation.IPython_display import display_animation\n",
    "from matplotlib import animation\n",
    "from IPython.display import display\n",
    "import sys\n",
    "\n",
    "# if \"ipykernel_launcher\" in sys.argv[0]:\n",
    "#     sys.argv = [\"\"]\n",
    "import argparse\n",
    "\n",
    "parser = argparse.ArgumentParser()\n",
    "parser.add_argument(\"--weights_file\",type=str,default=\"None\")\n",
    "parser.add_argument(\"--lr\",type=float, default=0.0001)\n",
    "parser.add_argument(\"--ctl_type\",type=str, default=\"lstm\")\n",
    "parser.add_argument(\"--opt\",type=str, default=\"adam\")\n",
    "parser.add_argument(\"--iters\",type=int, default=100000)\n",
    "#args = parser.parse_args()\n"
   ]
  },
  {
   "cell_type": "code",
   "execution_count": 2,
   "metadata": {},
   "outputs": [],
   "source": [
    "def show_envs(key=\"\"):\n",
    "    aenv = envs.registry.all()\n",
    "    all_envs = str(aenv).replace(\"EnvSpec\",\"\").replace(\"dict_values\", \"\").replace(\"(\",\"\").replace(\")\",\"\").replace(\"[\",\"\").replace(\"]\",\"\").split(\", \")\n",
    "    for env in all_envs:\n",
    "        if key == \"\":\n",
    "            print(env)\n",
    "        else:\n",
    "            if key in env:\n",
    "                print(env)"
   ]
  },
  {
   "cell_type": "code",
   "execution_count": 3,
   "metadata": {},
   "outputs": [],
   "source": [
    "\n",
    "def display_frames_as_gif(frames,save=False):\n",
    "    \"\"\"\n",
    "    Displays a list of frames as a gif, with controls\n",
    "    \"\"\"\n",
    "    #plt.figure(figsize=(frames[0].shape[1] / 72.0, frames[0].shape[0] / 72.0), dpi = 72)\n",
    "    patch = plt.imshow(frames[0])\n",
    "    plt.axis('off')\n",
    "\n",
    "    def animate(i):\n",
    "        patch.set_data(frames[i])\n",
    "\n",
    "    anim = animation.FuncAnimation(plt.gcf(), animate, frames = len(frames), interval=50)\n",
    "    if save:\n",
    "        anim.save('./hey.gif', writer='imagemagick', fps=60)\n",
    "\n",
    "    display(display_animation(anim, default_mode='loop'))"
   ]
  },
  {
   "cell_type": "code",
   "execution_count": 4,
   "metadata": {},
   "outputs": [],
   "source": [
    "class C(nn.Module):\n",
    "    def __init__(self,env=\"CarRacing\"):\n",
    "        super(C,self).__init__()\n",
    "        if env == \"CarRacing\":\n",
    "            self.nz = 32\n",
    "            self.nh = 256\n",
    "            self.action_len = 3 \n",
    "        self.fc = nn.Linear(in_features=self.nz+self.nh,out_features=self.action_len)\n",
    "    \n",
    "    def posprocess_output(self,raw_output):\n",
    "        raw_steer, raw_gas, raw_brake = raw_output[0],raw_output[1],raw_output[2]\n",
    "\n",
    "        steer = F.tanh(raw_steer) # between -1 and 1\n",
    "\n",
    "        gas = F.softplus(raw_gas) # between 0 and 1\n",
    "\n",
    "        brake = F.softplus(raw_brake) # between 0 and 1\n",
    "        return steer,gas,brake\n",
    "        \n",
    "    \n",
    "    def forward(self,z,h):\n",
    "        z = z.squeeze()\n",
    "        h = h.squeeze()\n",
    "        zh = torch.cat((z,h),dim=-1)\n",
    "        raw_output = self.fc(zh)\n",
    "        steer, gas, brake = self.posprocess_output(raw_output)\n",
    "        action = torch.cat((steer,gas,brake))\n",
    "        return action.data\n",
    "        "
   ]
  },
  {
   "cell_type": "code",
   "execution_count": 11,
   "metadata": {},
   "outputs": [
    {
     "name": "stdout",
     "output_type": "stream",
     "text": [
      "\u001b[33mWARN: gym.spaces.Box autodetected dtype as <class 'numpy.float32'>. Please provide explicit dtype.\u001b[0m\n"
     ]
    },
    {
     "data": {
      "text/plain": [
       "array([ 0.2733908 ,  0.90004557,  0.77395272], dtype=float32)"
      ]
     },
     "execution_count": 11,
     "metadata": {},
     "output_type": "execute_result"
    }
   ],
   "source": [
    "env_name = \"CarRacing-v0\"\n",
    "env = gym.make(env_name)\n",
    "env.action_space.sample()"
   ]
  },
  {
   "cell_type": "code",
   "execution_count": 7,
   "metadata": {},
   "outputs": [
    {
     "name": "stdout",
     "output_type": "stream",
     "text": [
      "\u001b[33mWARN: gym.spaces.Box autodetected dtype as <class 'numpy.float32'>. Please provide explicit dtype.\u001b[0m\n",
      "Track generation: 1165..1460 -> 295-tiles track\n",
      "hey %i 999\n",
      "Track generation: 1048..1314 -> 266-tiles track\n"
     ]
    }
   ],
   "source": [
    "batch_size=1\n",
    "c = C().cuda()\n",
    "\n",
    "seq_len=1\n",
    "\n",
    "env_name = \"CarRacing-v0\"\n",
    "env = gym.make(env_name)\n",
    "frames = []\n",
    "_ = env.reset()\n",
    "s = env.render(\"rgb_array\")\n",
    "\n",
    "for i in range(1002):\n",
    "    z = Variable(torch.Tensor(seq_len,batch_size,c.nz).normal_()).cuda()\n",
    "    h = Variable(torch.Tensor(seq_len,1,batch_size,c.nh).normal_()).cuda()\n",
    "    a = c(z,h)\n",
    "    _,r,d,_ = env.step(a)\n",
    "    if d:\n",
    "        print(\"hey %i\",i)\n",
    "        s = env.render(\"rgb_array\")\n",
    "        _ = env.reset()\n",
    "        \n",
    "    \n",
    "    s = env.render(\"rgb_array\")\n",
    "    frames.append(s)\n",
    "#display_frames_as_gif(frames)   \n",
    "    "
   ]
  },
  {
   "cell_type": "code",
   "execution_count": null,
   "metadata": {},
   "outputs": [],
   "source": []
  }
 ],
 "metadata": {
  "kernelspec": {
   "display_name": "Python 3",
   "language": "python",
   "name": "python3"
  },
  "language_info": {
   "codemirror_mode": {
    "name": "ipython",
    "version": 3
   },
   "file_extension": ".py",
   "mimetype": "text/x-python",
   "name": "python",
   "nbconvert_exporter": "python",
   "pygments_lexer": "ipython3",
   "version": "3.6.3"
  }
 },
 "nbformat": 4,
 "nbformat_minor": 2
}
